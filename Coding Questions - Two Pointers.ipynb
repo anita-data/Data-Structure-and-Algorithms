{
 "cells": [
  {
   "cell_type": "markdown",
   "metadata": {},
   "source": [
    "### Pair with Target Sum"
   ]
  },
  {
   "cell_type": "code",
   "execution_count": 22,
   "metadata": {},
   "outputs": [],
   "source": [
    "## Problem\n",
    "\n",
    "# Given an array of sorted numbers and a target sum, \n",
    "# find a pair in the array whose sum is equal to the given target."
   ]
  },
  {
   "cell_type": "markdown",
   "metadata": {},
   "source": [
    "#### Brute-force solution:\n",
    "\n",
    "iterate through the array, taking one number at a time - Binary search\n",
    "\n",
    "Time complexity: O(N∗logN)\n",
    "\n",
    "\n",
    "\n",
    "#### Two pointer:\n",
    "\n",
    "1. If the sum of the two numbers pointed by the two pointers is greater than the target sum, \n",
    "this means that we need a pair with a smaller sum. \n",
    "So, to try more pairs, we can decrement the end-pointer.\n",
    "\n",
    "\n",
    "2. If the sum of the two numbers pointed by the two pointers is smaller than the target sum, \n",
    "this means that we need a pair with a larger sum. \n",
    "So, to try more pairs, we can increment the start-pointer.\n",
    "\n",
    "\n",
    "##### Time complexity:\n",
    "\n",
    "O(N)\n",
    "\n",
    "##### Space complexity: \n",
    "\n",
    "O(1)"
   ]
  },
  {
   "cell_type": "code",
   "execution_count": 23,
   "metadata": {},
   "outputs": [],
   "source": [
    "def pair_with_targetsum(arr, target_sum):\n",
    "  left, right = 0, len(arr) - 1\n",
    "  while(left < right):\n",
    "    current_sum = arr[left] + arr[right]\n",
    "    if current_sum == target_sum:\n",
    "      return [left, right]\n",
    "\n",
    "    if target_sum > current_sum:\n",
    "      left += 1  # we need a pair with a bigger sum\n",
    "    else:\n",
    "      right -= 1  # we need a pair with a smaller sum\n",
    "  return [-1, -1]"
   ]
  },
  {
   "cell_type": "code",
   "execution_count": 24,
   "metadata": {},
   "outputs": [
    {
     "name": "stdout",
     "output_type": "stream",
     "text": [
      "[1, 3]\n",
      "[0, 2]\n"
     ]
    }
   ],
   "source": [
    "def main():\n",
    "  print(pair_with_targetsum([1, 2, 3, 4, 6], 6))\n",
    "  print(pair_with_targetsum([2, 5, 9, 11], 11))\n",
    "\n",
    "main()"
   ]
  },
  {
   "cell_type": "markdown",
   "metadata": {},
   "source": [
    "### Remove Duplicates"
   ]
  },
  {
   "cell_type": "code",
   "execution_count": 25,
   "metadata": {},
   "outputs": [],
   "source": [
    "## Problem\n",
    "\n",
    "# Given an array of sorted numbers, remove all duplicates from it. \n",
    "# You should not use any extra space; \n",
    "# after removing the duplicates in-place return the length of the subarray that has no duplicate in it."
   ]
  },
  {
   "cell_type": "markdown",
   "metadata": {},
   "source": [
    "keep one pointer for iterating the array\n",
    "\n",
    "while one pointer for placing the next non-duplicate number\n",
    "\n",
    "##### Time complexity:\n",
    "\n",
    "O(N) - N: total number of elements in the given array\n",
    "\n",
    "##### Space complexity: \n",
    "\n",
    "O(1)"
   ]
  },
  {
   "cell_type": "code",
   "execution_count": 11,
   "metadata": {},
   "outputs": [],
   "source": [
    "def remove_duplicates(arr):\n",
    "  # TODO: Write your code here\n",
    "    next_non_duplicate = 1\n",
    "    \n",
    "    i = 1\n",
    "    while(i<len(arr)):\n",
    "        if arr[next_non_duplicate -1] != arr[i]:\n",
    "            arr[next_non_duplicate] = arr[i]\n",
    "            next_non_duplicate +=1\n",
    "        i +=1\n",
    "        \n",
    "    return next_non_duplicate"
   ]
  },
  {
   "cell_type": "code",
   "execution_count": 13,
   "metadata": {},
   "outputs": [
    {
     "name": "stdout",
     "output_type": "stream",
     "text": [
      "4\n",
      "2\n"
     ]
    }
   ],
   "source": [
    "def main():\n",
    "    print(remove_duplicates([2, 3, 3, 3, 6, 9, 9]))\n",
    "    print(remove_duplicates([2, 2, 2, 11]))\n",
    "    \n",
    "main()"
   ]
  },
  {
   "cell_type": "code",
   "execution_count": 26,
   "metadata": {},
   "outputs": [],
   "source": [
    "## Problem\n",
    "\n",
    "# Given an unsorted array of numbers and a target ‘key’, \n",
    "# remove all instances of ‘key’ in-place \n",
    "# and return the new length of the array."
   ]
  },
  {
   "cell_type": "code",
   "execution_count": 27,
   "metadata": {},
   "outputs": [],
   "source": [
    "# first try \n",
    "\n",
    "def remove_element(arr, key):\n",
    "    nextElement = 0\n",
    "    for i in range(len(arr)):\n",
    "        if arr[nextElement] != key: # arr[i] instead of arr[nextElement]\n",
    "            arr[nextElement] = arr[i]\n",
    "            nextElement += 1\n",
    "        i += 1\n",
    "    return nextElement"
   ]
  },
  {
   "cell_type": "code",
   "execution_count": 28,
   "metadata": {},
   "outputs": [
    {
     "name": "stdout",
     "output_type": "stream",
     "text": [
      "Array new length: 0\n",
      "Array new length: 0\n"
     ]
    }
   ],
   "source": [
    "def main():\n",
    "  print(\"Array new length: \" +\n",
    "        str(remove_element([3, 2, 3, 6, 3, 10, 9, 3], 3)))\n",
    "  print(\"Array new length: \" +\n",
    "        str(remove_element([2, 11, 2, 2, 1], 2)))\n",
    "\n",
    "\n",
    "main()"
   ]
  },
  {
   "cell_type": "code",
   "execution_count": 29,
   "metadata": {},
   "outputs": [],
   "source": [
    "# Solution \n",
    "def remove_element(arr, key):\n",
    "  nextElement = 0  # index of the next element which is not 'key'\n",
    "  for i in range(len(arr)):\n",
    "    if arr[i] != key:\n",
    "      arr[nextElement] = arr[i]\n",
    "      nextElement += 1\n",
    "\n",
    "  return nextElement"
   ]
  },
  {
   "cell_type": "code",
   "execution_count": 30,
   "metadata": {},
   "outputs": [
    {
     "name": "stdout",
     "output_type": "stream",
     "text": [
      "Array new length: 4\n",
      "Array new length: 2\n"
     ]
    }
   ],
   "source": [
    "def main():\n",
    "  print(\"Array new length: \" +\n",
    "        str(remove_element([3, 2, 3, 6, 3, 10, 9, 3], 3)))\n",
    "  print(\"Array new length: \" +\n",
    "        str(remove_element([2, 11, 2, 2, 1], 2)))\n",
    "\n",
    "\n",
    "main()"
   ]
  },
  {
   "cell_type": "markdown",
   "metadata": {},
   "source": [
    "### Squaring a Sorted Array"
   ]
  },
  {
   "cell_type": "code",
   "execution_count": 31,
   "metadata": {},
   "outputs": [],
   "source": [
    "## Problem\n",
    "\n",
    "# Given a sorted array, create a new array containing\n",
    "# squares of all the numbers of the input array in the sorted order."
   ]
  },
  {
   "cell_type": "code",
   "execution_count": 32,
   "metadata": {},
   "outputs": [],
   "source": [
    "def make_squares(arr):\n",
    "  squares = []\n",
    "  # TODO: Write your code here\n",
    "  for i in range(len(arr)):\n",
    "    i ** 2\n",
    "  return squares"
   ]
  },
  {
   "cell_type": "code",
   "execution_count": 33,
   "metadata": {},
   "outputs": [
    {
     "name": "stdout",
     "output_type": "stream",
     "text": [
      "Squares: []\n",
      "Squares: []\n"
     ]
    }
   ],
   "source": [
    "def main():\n",
    "\n",
    "  print(\"Squares: \" + str(make_squares([-2, -1, 0, 2, 3])))\n",
    "  print(\"Squares: \" + str(make_squares([-3, -1, 0, 1, 2])))\n",
    "\n",
    "\n",
    "main()"
   ]
  },
  {
   "cell_type": "code",
   "execution_count": 34,
   "metadata": {},
   "outputs": [],
   "source": [
    "# Solution \n",
    "def make_squares(arr):\n",
    "  n = len(arr)\n",
    "  squares = [0 for x in range(n)]\n",
    "  highestSquareIdx = n - 1\n",
    "  left, right = 0, n - 1\n",
    "  while left <= right:\n",
    "    leftSquare = arr[left] * arr[left]\n",
    "    rightSquare = arr[right] * arr[right]\n",
    "    if leftSquare > rightSquare:\n",
    "      squares[highestSquareIdx] = leftSquare\n",
    "      left += 1\n",
    "    else:\n",
    "      squares[highestSquareIdx] = rightSquare\n",
    "      right -= 1\n",
    "    highestSquareIdx -= 1\n",
    "\n",
    "  return squares"
   ]
  },
  {
   "cell_type": "code",
   "execution_count": 35,
   "metadata": {},
   "outputs": [
    {
     "name": "stdout",
     "output_type": "stream",
     "text": [
      "Squares: [0, 1, 4, 4, 9]\n",
      "Squares: [0, 1, 1, 4, 9]\n"
     ]
    }
   ],
   "source": [
    "def main():\n",
    "\n",
    "  print(\"Squares: \" + str(make_squares([-2, -1, 0, 2, 3])))\n",
    "  print(\"Squares: \" + str(make_squares([-3, -1, 0, 1, 2])))\n",
    "\n",
    "\n",
    "main()"
   ]
  },
  {
   "cell_type": "markdown",
   "metadata": {},
   "source": [
    "### Triplet Sum to Zero"
   ]
  },
  {
   "cell_type": "markdown",
   "metadata": {},
   "source": [
    "1. sort the array\n",
    "2. iterate through it taking one number at a time \n",
    "3. find all the unique triplets - skip any duplicate number\n",
    "\n",
    "##### Time complexity: \n",
    "\n",
    "sort the array    O(N∗logN)\n",
    "\n",
    "searchPair()      O(N)\n",
    "\n",
    "searchTriplets()  O(N∗logN+N**2)   ---- O(N**2)\n",
    "\n",
    "##### Space complexity:\n",
    "\n",
    "sorting           O(N)"
   ]
  },
  {
   "cell_type": "code",
   "execution_count": 38,
   "metadata": {},
   "outputs": [],
   "source": [
    "def search_triplets(arr):\n",
    "    arr.sort()\n",
    "    triplets = []\n",
    "    for i in range(len(arr)):\n",
    "        if i > 0 and arr[i] == arr[i-1]:\n",
    "            continue\n",
    "        search_pair(arr, -arr[i], i+1, triplets)\n",
    "        \n",
    "    return triplets\n",
    "\n",
    "def search_pair(arr, target_sum, left, triplets):\n",
    "    right = len(arr) - 1\n",
    "    while(left <right):\n",
    "        current_sum = arr[left] + arr[right]\n",
    "        if current_sum == target_sum:\n",
    "            triplets.append([-target_sum, arr[left], arr[right]])\n",
    "            left += 1\n",
    "            right -= 1\n",
    "            while left < right and arr[left] == arr[left -1]:\n",
    "                left += 1\n",
    "            while left < right and arr[right] == arr[right +1]:\n",
    "                right -= 1\n",
    "        elif target_sum > current_sum:\n",
    "            left += 1\n",
    "        else:\n",
    "            right -= 1"
   ]
  },
  {
   "cell_type": "code",
   "execution_count": 39,
   "metadata": {},
   "outputs": [
    {
     "name": "stdout",
     "output_type": "stream",
     "text": [
      "[[-3, 1, 2], [-2, 0, 2], [-2, 1, 1], [-1, 0, 1]]\n",
      "[[-5, 2, 3], [-2, -1, 3]]\n"
     ]
    }
   ],
   "source": [
    "def main():\n",
    "  print(search_triplets([-3, 0, 1, 2, -1, 1, -2]))\n",
    "  print(search_triplets([-5, 2, -1, -2, 3]))\n",
    "\n",
    "\n",
    "main()"
   ]
  },
  {
   "cell_type": "markdown",
   "metadata": {},
   "source": [
    "### Triplet Sum Close to Target "
   ]
  },
  {
   "cell_type": "code",
   "execution_count": 40,
   "metadata": {},
   "outputs": [],
   "source": [
    "## Problem\n",
    "\n",
    "# Given an array of unsorted numbers and a target number, \n",
    "# find a triplet in the array whose sum is as close to the target number as possible, \n",
    "# return the sum of the triplet. \n",
    "# If there are more than one such triplet, \n",
    "# return the sum of the triplet with the smallest sum."
   ]
  },
  {
   "cell_type": "code",
   "execution_count": 2,
   "metadata": {},
   "outputs": [],
   "source": [
    "import math\n",
    "\n",
    "\n",
    "def triplet_sum_close_to_target(arr, target_sum):\n",
    "  arr.sort()\n",
    "  smallest_difference = math.inf\n",
    "  for i in range(len(arr)-2):\n",
    "    left = i + 1\n",
    "    right = len(arr) - 1\n",
    "    while (left < right):\n",
    "      target_diff = target_sum - arr[i] - arr[left] - arr[right]\n",
    "      if target_diff == 0:  # we've found a triplet with an exact sum\n",
    "        return target_sum - target_diff  # return sum of all the numbers\n",
    "\n",
    "      # the second part of the following 'if' is to handle the smallest sum when we have more than one solution\n",
    "      if abs(target_diff) < abs(smallest_difference) or (abs(target_diff) == abs(smallest_difference) and target_diff > smallest_difference):\n",
    "        smallest_difference = target_diff  # save the closest and the biggest difference\n",
    "\n",
    "      if target_diff > 0:\n",
    "        left += 1  # we need a triplet with a bigger sum\n",
    "      else:\n",
    "        right -= 1  # we need a triplet with a smaller sum\n",
    "\n",
    "  return target_sum - smallest_difference"
   ]
  },
  {
   "cell_type": "code",
   "execution_count": 3,
   "metadata": {},
   "outputs": [
    {
     "name": "stdout",
     "output_type": "stream",
     "text": [
      "1\n",
      "0\n",
      "3\n"
     ]
    }
   ],
   "source": [
    "def main():\n",
    "  print(triplet_sum_close_to_target([-2, 0, 1, 2], 2))\n",
    "  print(triplet_sum_close_to_target([-3, -1, 1, 2], 1))\n",
    "  print(triplet_sum_close_to_target([1, 0, 1, 1], 100))\n",
    "\n",
    "\n",
    "main()"
   ]
  },
  {
   "cell_type": "markdown",
   "metadata": {},
   "source": [
    "### Triplets with Smaller Sum"
   ]
  },
  {
   "cell_type": "code",
   "execution_count": null,
   "metadata": {},
   "outputs": [],
   "source": [
    "## Problem\n",
    "\n",
    "# Given an array arr of unsorted numbers and a target sum, \n",
    "# count all triplets in it such that arr[i] + arr[j] + arr[k] < target \n",
    "# where i, j, and k are three different indices. \n",
    "# Write a function to return the count of such triplets."
   ]
  },
  {
   "cell_type": "code",
   "execution_count": null,
   "metadata": {},
   "outputs": [],
   "source": [
    "def triplet_with_smaller_sum(arr, target):\n",
    "  arr.sort()\n",
    "  count = 0\n",
    "  for i in range(len(arr)-2):\n",
    "    count += search_pair(arr, target - arr[i], i)\n",
    "  return count\n",
    "\n",
    "\n",
    "def search_pair(arr, target_sum, first):\n",
    "  count = 0\n",
    "  left, right = first + 1, len(arr) - 1\n",
    "  while (left < right):\n",
    "    if arr[left] + arr[right] < target_sum:  # found the triplet\n",
    "      # since arr[right] >= arr[left], therefore, we can replace arr[right] by any number between\n",
    "      # left and right to get a sum less than the target sum\n",
    "      count += right - left\n",
    "      left += 1\n",
    "    else:\n",
    "      right -= 1  # we need a pair with a smaller sum\n",
    "  return count\n"
   ]
  },
  {
   "cell_type": "markdown",
   "metadata": {},
   "source": [
    "### Subarrays with Product Less than a Target "
   ]
  },
  {
   "cell_type": "code",
   "execution_count": null,
   "metadata": {},
   "outputs": [],
   "source": [
    "## Problem\n",
    "\n",
    "# Given an array with positive numbers and a target number, \n",
    "# find all of its contiguous subarrays whose product is less than the target number."
   ]
  },
  {
   "cell_type": "code",
   "execution_count": 4,
   "metadata": {},
   "outputs": [],
   "source": [
    "from collections import deque\n",
    "\n",
    "\n",
    "def find_subarrays(arr, target):\n",
    "  result = []\n",
    "  product = 1\n",
    "  left = 0\n",
    "  for right in range(len(arr)):\n",
    "    product *= arr[right]\n",
    "    while (product >= target and left < len(arr)):\n",
    "      product /= arr[left]\n",
    "      left += 1\n",
    "    # since the product of all numbers from left to right is less than the target therefore,\n",
    "    # all subarrays from left to right will have a product less than the target too; to avoid\n",
    "    # duplicates, we will start with a subarray containing only arr[right] and then extend it\n",
    "    temp_list = deque()\n",
    "    for i in range(right, left-1, -1):\n",
    "      temp_list.appendleft(arr[i])\n",
    "      result.append(list(temp_list))\n",
    "  return result"
   ]
  },
  {
   "cell_type": "code",
   "execution_count": 5,
   "metadata": {},
   "outputs": [
    {
     "name": "stdout",
     "output_type": "stream",
     "text": [
      "[[2], [5], [2, 5], [3], [5, 3], [10]]\n",
      "[[8], [2], [8, 2], [6], [2, 6], [5], [6, 5]]\n"
     ]
    }
   ],
   "source": [
    "def main():\n",
    "  print(find_subarrays([2, 5, 3, 10], 30))\n",
    "  print(find_subarrays([8, 2, 6, 5], 50))\n",
    "\n",
    "\n",
    "main()"
   ]
  },
  {
   "cell_type": "markdown",
   "metadata": {},
   "source": [
    "### Dutch National Flag Problem"
   ]
  },
  {
   "cell_type": "code",
   "execution_count": null,
   "metadata": {},
   "outputs": [],
   "source": [
    "## Problem \n",
    "\n",
    "# Given an array containing 0s, 1s and 2s, sort the array in-place. \n",
    "# You should treat numbers of the array as objects, \n",
    "# hence, we can’t count 0s, 1s, and 2s to recreate the array.\n",
    "\n",
    "# The flag of the Netherlands consists of three colors: red, white and blue; \n",
    "# and since our input array also consists of three different numbers that is why it is called Dutch National Flag problem.\n"
   ]
  },
  {
   "cell_type": "code",
   "execution_count": 6,
   "metadata": {},
   "outputs": [],
   "source": [
    "def dutch_flag_sort(arr):\n",
    "  # all elements < low are 0, and all elements > high are 2\n",
    "  # all elements from >= low < i are 1\n",
    "  low, high = 0, len(arr) - 1\n",
    "  i = 0\n",
    "  while(i <= high):\n",
    "    if arr[i] == 0:\n",
    "      arr[i], arr[low] = arr[low], arr[i]\n",
    "      # increment 'i' and 'low'\n",
    "      i += 1\n",
    "      low += 1\n",
    "    elif arr[i] == 1:\n",
    "      i += 1\n",
    "    else:  # the case for arr[i] == 2\n",
    "      arr[i], arr[high] = arr[high], arr[i]\n",
    "      # decrement 'high' only, after the swap the number at index 'i' could be 0, 1 or 2\n",
    "      high -= 1"
   ]
  },
  {
   "cell_type": "markdown",
   "metadata": {},
   "source": [
    "### Quadruple Sum to Target"
   ]
  },
  {
   "cell_type": "code",
   "execution_count": null,
   "metadata": {},
   "outputs": [],
   "source": [
    "## Problem \n",
    "\n",
    "# Given an array of unsorted numbers and a target number, \n",
    "# find all unique quadruplets in it, whose sum is equal to the target number."
   ]
  },
  {
   "cell_type": "code",
   "execution_count": 7,
   "metadata": {},
   "outputs": [],
   "source": [
    "def search_quadruplets(arr, target):\n",
    "  arr.sort()\n",
    "  quadruplets = []\n",
    "  for i in range(0, len(arr)-3):\n",
    "    # skip same element to avoid duplicate quadruplets\n",
    "    if i > 0 and arr[i] == arr[i - 1]:\n",
    "      continue\n",
    "    for j in range(i + 1, len(arr)-2):\n",
    "      # skip same element to avoid duplicate quadruplets\n",
    "      if j > i + 1 and arr[j] == arr[j - 1]:\n",
    "        continue\n",
    "      search_pairs(arr, target, i, j, quadruplets)\n",
    "  return quadruplets\n",
    "\n",
    "\n",
    "def search_pairs(arr, target_sum, first, second, quadruplets):\n",
    "  left = second + 1\n",
    "  right = len(arr) - 1\n",
    "  while (left < right):\n",
    "    quad_sum = arr[first] + arr[second] + arr[left] + arr[right]\n",
    "    if quad_sum == target_sum:  # found the quadruplet\n",
    "      quadruplets.append(\n",
    "        [arr[first], arr[second], arr[left], arr[right]])\n",
    "      left += 1\n",
    "      right -= 1\n",
    "      while (left < right and arr[left] == arr[left - 1]):\n",
    "        left += 1  # skip same element to avoid duplicate quadruplets\n",
    "      while (left < right and arr[right] == arr[right + 1]):\n",
    "        right -= 1  # skip same element to avoid duplicate quadruplets\n",
    "    elif quad_sum < target_sum:\n",
    "      left += 1  # we need a pair with a bigger sum\n",
    "    else:\n",
    "      right -= 1  # we need a pair with a smaller sum"
   ]
  },
  {
   "cell_type": "code",
   "execution_count": 8,
   "metadata": {},
   "outputs": [
    {
     "name": "stdout",
     "output_type": "stream",
     "text": [
      "[[-3, -1, 1, 4], [-3, 1, 1, 2]]\n",
      "[[-2, 0, 2, 2], [-1, 0, 1, 2]]\n"
     ]
    }
   ],
   "source": [
    "def main():\n",
    "  print(search_quadruplets([4, 1, 2, -1, 1, -3], 1))\n",
    "  print(search_quadruplets([2, 0, -1, 1, -2, 2], 2))\n",
    "\n",
    "\n",
    "main()"
   ]
  },
  {
   "cell_type": "markdown",
   "metadata": {},
   "source": [
    "### Comparing Strings containing Backspaces "
   ]
  },
  {
   "cell_type": "code",
   "execution_count": 9,
   "metadata": {},
   "outputs": [],
   "source": [
    "def backspace_compare(str1, str2):\n",
    "  # use two pointer approach to compare the strings\n",
    "  index1 = len(str1) - 1\n",
    "  index2 = len(str2) - 1\n",
    "  while (index1 >= 0 or index2 >= 0):\n",
    "    i1 = get_next_valid_char_index(str1, index1)\n",
    "    i2 = get_next_valid_char_index(str2, index2)\n",
    "    if i1 < 0 and i2 < 0:  # reached the end of both the strings\n",
    "      return True\n",
    "    if i1 < 0 or i2 < 0:  # reached the end of one of the strings\n",
    "      return False\n",
    "    if str1[i1] != str2[i2]:  # check if the characters are equal\n",
    "      return False\n",
    "\n",
    "    index1 = i1 - 1\n",
    "    index2 = i2 - 1\n",
    "\n",
    "  return True\n",
    "\n",
    "\n",
    "def get_next_valid_char_index(str, index):\n",
    "  backspace_count = 0\n",
    "  while (index >= 0):\n",
    "    if str[index] == '#':  # found a backspace character\n",
    "      backspace_count += 1\n",
    "    elif backspace_count > 0:  # a non-backspace character\n",
    "      backspace_count -= 1\n",
    "    else:\n",
    "      break\n",
    "\n",
    "    index -= 1  # skip a backspace or a valid character\n",
    "\n",
    "  return index"
   ]
  },
  {
   "cell_type": "code",
   "execution_count": 10,
   "metadata": {},
   "outputs": [
    {
     "name": "stdout",
     "output_type": "stream",
     "text": [
      "True\n",
      "False\n",
      "True\n",
      "True\n"
     ]
    }
   ],
   "source": [
    "def main():\n",
    "  print(backspace_compare(\"xy#z\", \"xzz#\"))\n",
    "  print(backspace_compare(\"xy#z\", \"xyz#\"))\n",
    "  print(backspace_compare(\"xp#\", \"xyz##\"))\n",
    "  print(backspace_compare(\"xywrrmp\", \"xywrrmu#p\"))\n",
    "\n",
    "\n",
    "main()"
   ]
  },
  {
   "cell_type": "markdown",
   "metadata": {},
   "source": [
    "### Minimum Window Sort "
   ]
  },
  {
   "cell_type": "code",
   "execution_count": null,
   "metadata": {},
   "outputs": [],
   "source": [
    "## Problem\n",
    "\n",
    "# Given an array, \n",
    "# find the length of the smallest subarray in it which when sorted will sort the whole array."
   ]
  },
  {
   "cell_type": "code",
   "execution_count": null,
   "metadata": {},
   "outputs": [],
   "source": [
    "brute force: find all possible continuous sub arrarys out of the entire array\n",
    "\n",
    "sort the array in ascending order, \n",
    "\n",
    "smallest number in left and largest number is at the end of the array. \n"
   ]
  },
  {
   "cell_type": "code",
   "execution_count": 41,
   "metadata": {},
   "outputs": [],
   "source": [
    "import math\n",
    "\n",
    "\n",
    "def shortest_window_sort(arr):\n",
    "  low, high = 0, len(arr) - 1\n",
    "  # find the first number out of sorting order from the beginning\n",
    "  while (low < len(arr) - 1 and arr[low] <= arr[low + 1]):\n",
    "    low += 1\n",
    "\n",
    "  if low == len(arr) - 1:  # if the array is sorted\n",
    "    return 0\n",
    "\n",
    "  # find the first number out of sorting order from the end\n",
    "  while (high > 0 and arr[high] >= arr[high - 1]):\n",
    "    high -= 1\n",
    "\n",
    "  # find the maximum and minimum of the subarray\n",
    "  subarray_max = -math.inf\n",
    "  subarray_min = math.inf\n",
    "  for k in range(low, high+1):\n",
    "    subarray_max = max(subarray_max, arr[k])\n",
    "    subarray_min = min(subarray_min, arr[k])\n",
    "\n",
    "  # extend the subarray to include any number which is bigger than the minimum of the subarray\n",
    "  while (low > 0 and arr[low-1] > subarray_min):\n",
    "    low -= 1\n",
    "  # extend the subarray to include any number which is smaller than the maximum of the subarray\n",
    "  while (high < len(arr)-1 and arr[high+1] < subarray_max):\n",
    "    high += 1\n",
    "\n",
    "  return high - low + 1"
   ]
  },
  {
   "cell_type": "code",
   "execution_count": 42,
   "metadata": {},
   "outputs": [
    {
     "name": "stdout",
     "output_type": "stream",
     "text": [
      "5\n",
      "5\n",
      "0\n",
      "3\n"
     ]
    }
   ],
   "source": [
    "def main():\n",
    "  print(shortest_window_sort([1, 2, 5, 3, 7, 10, 9, 12]))\n",
    "  print(shortest_window_sort([1, 3, 2, 0, -1, 7, 10]))\n",
    "  print(shortest_window_sort([1, 2, 3]))\n",
    "  print(shortest_window_sort([3, 2, 1]))\n",
    "\n",
    "\n",
    "main()"
   ]
  }
 ],
 "metadata": {
  "kernelspec": {
   "display_name": "Python 3",
   "language": "python",
   "name": "python3"
  },
  "language_info": {
   "codemirror_mode": {
    "name": "ipython",
    "version": 3
   },
   "file_extension": ".py",
   "mimetype": "text/x-python",
   "name": "python",
   "nbconvert_exporter": "python",
   "pygments_lexer": "ipython3",
   "version": "3.8.5"
  }
 },
 "nbformat": 4,
 "nbformat_minor": 4
}
